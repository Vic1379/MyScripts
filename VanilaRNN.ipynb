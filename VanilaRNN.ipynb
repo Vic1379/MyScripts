{
 "cells": [
  {
   "cell_type": "code",
   "execution_count": 1,
   "metadata": {},
   "outputs": [],
   "source": [
    "import random as rd, numpy as np, torch as trc\n",
    "import matplotlib.pyplot as plt\n",
    "import torch.nn.functional as F\n",
    "\n",
    "from tqdm import tqdm\n",
    "\n",
    "trc.random.manual_seed(0)\n",
    "np.random.seed(0)\n",
    "rd.seed(0)\n",
    "\n",
    "plt.style.use('dark_background')"
   ]
  },
  {
   "cell_type": "markdown",
   "metadata": {},
   "source": [
    "# Data review & preparation"
   ]
  },
  {
   "cell_type": "code",
   "execution_count": 2,
   "metadata": {},
   "outputs": [
    {
     "data": {
      "text/plain": [
       "(['Ababko', 'Abaev', 'Abagyan', 'Abaidulin', 'Abaidullin'], 9408)"
      ]
     },
     "execution_count": 2,
     "metadata": {},
     "output_type": "execute_result"
    }
   ],
   "source": [
    "with open('names.txt') as f:\n",
    "    data = f.read().split('\\n')[:-1]\n",
    "\n",
    "data[:5], len(data)"
   ]
  },
  {
   "cell_type": "code",
   "execution_count": 3,
   "metadata": {},
   "outputs": [
    {
     "data": {
      "image/png": "[encoded data removed]",
      "text/plain": [
       "<Figure size 500x300 with 1 Axes>"
      ]
     },
     "metadata": {},
     "output_type": "display_data"
    }
   ],
   "source": [
    "plt.style.use('dark_background')\n",
    "plt.rcParams['figure.figsize'] = (5, 3)\n",
    "plt.hist(list(map(len, data)), bins=100);"
   ]
  },
  {
   "cell_type": "code",
   "execution_count": 4,
   "metadata": {},
   "outputs": [
    {
     "data": {
      "image/png": "[encoded data removed]",
      "text/plain": [
       "<Figure size 500x300 with 1 Axes>"
      ]
     },
     "metadata": {},
     "output_type": "display_data"
    }
   ],
   "source": [
    "data = [i for i in data if len(i) <= 14]\n",
    "plt.hist(list(map(len, data)), bins=100);"
   ]
  },
  {
   "cell_type": "code",
   "execution_count": 5,
   "metadata": {},
   "outputs": [
    {
     "data": {
      "text/plain": [
       "(['Ababko', 'Abaev', 'Abagyan', 'Abaidulin', 'Abaidullin'], 9368)"
      ]
     },
     "execution_count": 5,
     "metadata": {},
     "output_type": "execute_result"
    }
   ],
   "source": [
    "data[:5], len(data)"
   ]
  },
  {
   "cell_type": "code",
   "execution_count": 19,
   "metadata": {},
   "outputs": [
    {
     "data": {
      "text/plain": [
       "[(\"'\", 1), (',', 2), ('-', 3), ('A', 4), ('B', 5)]"
      ]
     },
     "execution_count": 19,
     "metadata": {},
     "output_type": "execute_result"
    }
   ],
   "source": [
    "tokens = sorted(list(set(''.join(data))))\n",
    "token2id = {t: i+1 for i, t in enumerate(tokens)}\n",
    "token2id[' '] = 0 # add special symbol (space) with indx=0 for no prefix gen\n",
    "[(k, token2id[k]) for k in list(token2id)[:5]]"
   ]
  },
  {
   "cell_type": "markdown",
   "metadata": {},
   "source": [
    "При формировании векторного представления данных, в начале каждого элемента оставляем нулевое значение (необходимо для возможности генерации слов без заданного префикса)."
   ]
  },
  {
   "cell_type": "code",
   "execution_count": 20,
   "metadata": {},
   "outputs": [
    {
     "data": {
      "text/plain": [
       "array([[ 0,  4, 28, 27, 28, 37, 41,  0,  0,  0,  0,  0,  0,  0,  0],\n",
       "       [ 0,  4, 28, 27, 31, 47,  0,  0,  0,  0,  0,  0,  0,  0,  0],\n",
       "       [ 0,  4, 28, 27, 33, 49, 27, 40,  0,  0,  0,  0,  0,  0,  0],\n",
       "       [ 0,  4, 28, 27, 35, 30, 46, 38, 35, 40,  0,  0,  0,  0,  0],\n",
       "       [ 0,  4, 28, 27, 35, 30, 46, 38, 38, 35, 40,  0,  0,  0,  0]])"
      ]
     },
     "execution_count": 20,
     "metadata": {},
     "output_type": "execute_result"
    }
   ],
   "source": [
    "data_vec = np.zeros((len(data), max(map(len, data))+1), dtype='int32')\n",
    "for i in range(len(data_vec)):\n",
    "    ids = [token2id[t] for t in data[i]]\n",
    "    data_vec[i, 1:len(ids)+1] = ids \n",
    "data_vec[:5]"
   ]
  },
  {
   "cell_type": "markdown",
   "metadata": {},
   "source": [
    "# Neural Net Architecture"
   ]
  },
  {
   "cell_type": "markdown",
   "metadata": {},
   "source": [
    "Зачем использовать \"embedding\"?\n",
    "- получаем контроль над размерностью вектора для представления одного символа;\n",
    "- избавляемся от нерелевантной (скорее всего) иерархии между буквами;\n",
    "- <b>самое главное:</b> веса модуля Embedding, использующиеся для получения векторных представлений индексов, настраиваются при обучении модели. Таким образом, каждый символ наделяется релевантными (скорее всего) признаками."
   ]
  },
  {
   "cell_type": "code",
   "execution_count": 21,
   "metadata": {},
   "outputs": [],
   "source": [
    "# Vanila RNN (this one eqivalent to trc.nn.RNN, there's also trc.nn.LSTM, trc.nn.GRU etc.)\n",
    "class RNN_V(trc.nn.Module):\n",
    "    def __init__(self, alphabet_size, emb_size=8, h_size=32):\n",
    "        super().__init__()\n",
    "        self.h_size = h_size\n",
    "        self.embed = trc.nn.Embedding(alphabet_size, emb_size)\n",
    "\n",
    "        self.fc_update_h = trc.nn.Linear(emb_size+h_size, h_size)\n",
    "        self.fc_res = trc.nn.Linear(h_size, alphabet_size)\n",
    "\n",
    "        self.act = trc.nn.Tanh()\n",
    "    \n",
    "    # vanila recurrent step, any other architecture can be used here (this one equivalent to trc.nn.RNNCell)\n",
    "    def step(self, x, h):\n",
    "        x = self.embed(x)\n",
    "        x_and_h = trc.cat([x, h], dim=-1) # concatenate input (emb) and h for each item\n",
    "        h = self.act(self.fc_update_h(x_and_h)) # update H\n",
    "        return self.fc_res(h), h # return step OUT and all hidden states (1 h here)\n",
    "    \n",
    "    def forward(self, x):\n",
    "        h, res = trc.zeros([len(x), self.h_size], dtype=trc.float32), []\n",
    "        # recurrent actions (steps) for each ITEM in a SEQUENCE:\n",
    "        for i in range(x.shape[1]):\n",
    "            out, h = self.step(x[:, i], h) # get batch of indxs for ITEM i and make a STEP\n",
    "            res.append(out) # save output after each step\n",
    "        \n",
    "        # using \"stack\" to concatenate along the new dimension (in order to stack results for each recurrent step)\n",
    "        # transpose for CE loss which requires dims as follows — (batch, classes, ...)\n",
    "        return trc.stack(res, dim=1).transpose(1, 2), h # return last h in case if consequent generation is needed"
   ]
  },
  {
   "cell_type": "markdown",
   "metadata": {},
   "source": [
    "# Neural Net Training"
   ]
  },
  {
   "cell_type": "code",
   "execution_count": 22,
   "metadata": {},
   "outputs": [],
   "source": [
    "net = RNN_V(alphabet_size=len(token2id), emb_size=8, h_size=32)\n",
    "loss = trc.nn.CrossEntropyLoss()\n",
    "optimizer = trc.optim.Adam(net.parameters(), lr=0.001)"
   ]
  },
  {
   "cell_type": "code",
   "execution_count": 23,
   "metadata": {},
   "outputs": [
    {
     "name": "stderr",
     "output_type": "stream",
     "text": [
      "100%|██████████| 3/3 [00:04<00:00,  1.51s/it]\n"
     ]
    }
   ],
   "source": [
    "epochs_n, batch_size = 3, 32\n",
    "x, idxs = trc.tensor(data_vec, dtype=trc.long), list(range(len(data_vec)))\n",
    "acc_hist, loss_hist = [], []\n",
    "\n",
    "for i in tqdm(range(epochs_n)):\n",
    "    rd.shuffle(idxs) # trying to avoid using torch data loaders\n",
    "    for j in range(0, len(data_vec), batch_size):\n",
    "        batch_idxs = idxs[j:j+batch_size]\n",
    "        batch = x[batch_idxs]\n",
    "        preds, _ = net(batch[:, :-1]) # no predictions for last symbols (:-1)\n",
    "        loss_val = loss(preds, batch[:, 1:]) # cosequent symbols are targets (1:)\n",
    "\n",
    "        loss_val.backward()\n",
    "        optimizer.step()\n",
    "        optimizer.zero_grad()\n",
    "\n",
    "        acc_hist.append((preds.argmax(1) == batch[:, 1:]).float().mean())\n",
    "        loss_hist.append(loss_val.data)"
   ]
  },
  {
   "cell_type": "code",
   "execution_count": 24,
   "metadata": {},
   "outputs": [
    {
     "data": {
      "image/png": "[encoded data removed]",
      "text/plain": [
       "<Figure size 500x300 with 2 Axes>"
      ]
     },
     "metadata": {},
     "output_type": "display_data"
    }
   ],
   "source": [
    "fig, ax1 = plt.subplots()\n",
    "ax2 = ax1.twinx()\n",
    "\n",
    "ax1.plot(acc_hist, label='Accuracy')\n",
    "ax2.plot(loss_hist, c='springgreen', label='Loss')\n",
    "ax1.set_xlabel('Learning Steps')\n",
    "ax1.set_ylabel('Acccuracy')\n",
    "ax2.set_ylabel('Loss')\n",
    "fig.legend(loc='lower left');"
   ]
  },
  {
   "cell_type": "markdown",
   "metadata": {},
   "source": [
    "# Testing"
   ]
  },
  {
   "cell_type": "code",
   "execution_count": 41,
   "metadata": {},
   "outputs": [
    {
     "data": {
      "text/plain": [
       "[(1, \"'\"), (2, ','), (3, '-'), (4, 'A'), (5, 'B')]"
      ]
     },
     "execution_count": 41,
     "metadata": {},
     "output_type": "execute_result"
    }
   ],
   "source": [
    "# in order to convert predicted indxs to symbols\n",
    "id2token = {token2id[t]: t for t in token2id}\n",
    "[(k, id2token[k]) for k in list(id2token)[:5]]"
   ]
  },
  {
   "cell_type": "code",
   "execution_count": 100,
   "metadata": {},
   "outputs": [],
   "source": [
    "def generate_sample(net, prefix=' ', max_len=14, temperature=1):\n",
    "    x = trc.tensor([token2id[i] for i in prefix], dtype=trc.long).unsqueeze(0)\n",
    "    res, h = net(x)\n",
    "\n",
    "    # use temperature to increase or decrease the difference between values\n",
    "    next_probs = F.softmax(res[:, :, -1].squeeze()/temperature, dim=0).detach().numpy()\n",
    "    # using softmax output as probs for choosing next indx\n",
    "    next_char = np.random.choice(range(len(token2id)), p=next_probs)\n",
    "    x = trc.cat([x, trc.tensor([[next_char]])], dim=1)\n",
    "\n",
    "    for i in range(len(prefix), max_len):\n",
    "        out, h = net.step(x[:, i], h)\n",
    "\n",
    "        # error without numpy(), bug\n",
    "        next_probs = F.softmax(out.squeeze()/temperature, dim=0).detach().numpy()\n",
    "        next_char = np.random.choice(range(len(token2id)), p=next_probs)\n",
    "        x = trc.cat([x, trc.tensor([[next_char]])], dim=1)\n",
    "\n",
    "    return ''.join([id2token[int(i)] for i in x[0, 1:]])"
   ]
  },
  {
   "cell_type": "code",
   "execution_count": 101,
   "metadata": {},
   "outputs": [
    {
     "name": "stdout",
     "output_type": "stream",
     "text": [
      "Vulenov       \n",
      "Eairinov      \n",
      "Abatinov      \n",
      "Parolov       \n",
      "Rakain        \n",
      "Abarudov      \n",
      "Abaranov      \n",
      "Jashanov      \n",
      "Zhalyaev      \n",
      "Henkov        \n"
     ]
    }
   ],
   "source": [
    "for i in range(10):\n",
    "    print(generate_sample(net, temperature=0.5))"
   ]
  },
  {
   "cell_type": "code",
   "execution_count": 97,
   "metadata": {},
   "outputs": [
    {
     "name": "stdout",
     "output_type": "stream",
     "text": [
      "Balinsky      \n",
      "Balarov       \n",
      "Balukin       \n",
      "Balov         \n",
      "Balun         \n",
      "Balov         \n",
      "Balrinov      \n",
      "Balymin       \n",
      "Balaumov      \n",
      "Balsshan      \n"
     ]
    }
   ],
   "source": [
    "for i in range(10):\n",
    "    print(generate_sample(net, prefix=' Bal', temperature=0.5))"
   ]
  },
  {
   "cell_type": "code",
   "execution_count": null,
   "metadata": {},
   "outputs": [],
   "source": []
  }
 ],
 "metadata": {
  "kernelspec": {
   "display_name": "Python 3",
   "language": "python",
   "name": "python3"
  },
  "language_info": {
   "codemirror_mode": {
    "name": "ipython",
    "version": 3
   },
   "file_extension": ".py",
   "mimetype": "text/x-python",
   "name": "python",
   "nbconvert_exporter": "python",
   "pygments_lexer": "ipython3",
   "version": "3.9.13"
  }
 },
 "nbformat": 4,
 "nbformat_minor": 2
}
